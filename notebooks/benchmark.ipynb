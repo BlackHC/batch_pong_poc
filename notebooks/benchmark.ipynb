{
 "cells": [
  {
   "cell_type": "code",
   "execution_count": 1,
   "metadata": {
    "ExecuteTime": {
     "end_time": "2018-02-19T15:32:57.014133Z",
     "start_time": "2018-02-19T15:32:56.327126Z"
    }
   },
   "outputs": [],
   "source": [
    "import time\n",
    "import numpy as np\n",
    "import typing\n",
    "import pandas as pd\n",
    "\n",
    "from src import numpy_pong\n",
    "from src import vanilla_pong\n",
    "from src import vectorized_envs"
   ]
  },
  {
   "cell_type": "code",
   "execution_count": 2,
   "metadata": {
    "ExecuteTime": {
     "end_time": "2018-02-19T15:32:58.014133Z",
     "start_time": "2018-02-19T15:32:57.848988Z"
    }
   },
   "outputs": [],
   "source": [
    "import matplotlib\n",
    "import numpy as np\n",
    "import matplotlib.pyplot as plt\n",
    "%matplotlib inline  "
   ]
  },
  {
   "cell_type": "code",
   "execution_count": 3,
   "metadata": {
    "ExecuteTime": {
     "end_time": "2018-02-19T15:33:01.897529Z",
     "start_time": "2018-02-19T15:33:01.892522Z"
    }
   },
   "outputs": [],
   "source": [
    "class BenchmarkResult(typing.NamedTuple):\n",
    "    desc: str\n",
    "    num_envs: int\n",
    "    time_per_step_env: float"
   ]
  },
  {
   "cell_type": "code",
   "execution_count": 4,
   "metadata": {
    "ExecuteTime": {
     "end_time": "2018-02-19T15:33:02.837001Z",
     "start_time": "2018-02-19T15:33:02.811996Z"
    }
   },
   "outputs": [],
   "source": [
    "def sample_action(n):\n",
    "    return np.random.choice(3, size=(n, 2))\n",
    "\n",
    "\n",
    "def sample_atari_action(n):\n",
    "    return np.random.choice([0,2,3], size=(n,))\n",
    "    \n",
    "\n",
    "def run_benchmark(envs, steps=100, sample_action=sample_action):\n",
    "    # Warm up\n",
    "    envs.reset()\n",
    "    for _ in range(5):\n",
    "        envs.step(sample_action(envs.n))\n",
    "\n",
    "    start_time = time.time()\n",
    "\n",
    "    envs.reset()\n",
    "    for _ in range(steps):\n",
    "        envs.step(sample_action(envs.n))\n",
    "    end_time = time.time()\n",
    "    delta = (end_time - start_time) / steps / envs.n\n",
    "    return delta"
   ]
  },
  {
   "cell_type": "markdown",
   "metadata": {
    "ExecuteTime": {
     "end_time": "2018-02-19T15:34:14.928894Z",
     "start_time": "2018-02-19T15:34:14.925891Z"
    }
   },
   "source": [
    "# Load results"
   ]
  },
  {
   "cell_type": "code",
   "execution_count": 6,
   "metadata": {
    "ExecuteTime": {
     "end_time": "2018-02-19T15:34:26.227315Z",
     "start_time": "2018-02-19T15:34:26.214316Z"
    }
   },
   "outputs": [],
   "source": [
    "%store -r"
   ]
  },
  {
   "cell_type": "markdown",
   "metadata": {},
   "source": [
    "## Rerun benchmarks"
   ]
  },
  {
   "cell_type": "code",
   "execution_count": 76,
   "metadata": {
    "ExecuteTime": {
     "end_time": "2018-02-15T18:07:35.461364Z",
     "start_time": "2018-02-15T18:07:35.457347Z"
    }
   },
   "outputs": [],
   "source": [
    "benchmarks = []"
   ]
  },
  {
   "cell_type": "code",
   "execution_count": 77,
   "metadata": {
    "ExecuteTime": {
     "end_time": "2018-02-15T18:07:38.920772Z",
     "start_time": "2018-02-15T18:07:36.077112Z"
    },
    "code_folding": []
   },
   "outputs": [],
   "source": [
    "for n in [1, 4, 16, 64, 256, 1024, 4096, 16384]:\n",
    "    time_per_step_env = run_benchmark(\n",
    "        numpy_pong.BothPlayerPongGymEnv(numpy_pong.PongConfiguration(), n=n))\n",
    "    benchmarks.append(\n",
    "        BenchmarkResult(\n",
    "            desc='numpy', num_envs=n, time_per_step_env=time_per_step_env))"
   ]
  },
  {
   "cell_type": "code",
   "execution_count": 78,
   "metadata": {
    "ExecuteTime": {
     "end_time": "2018-02-15T18:07:48.722358Z",
     "start_time": "2018-02-15T18:07:38.950731Z"
    }
   },
   "outputs": [],
   "source": [
    "for n in [1, 4, 16, 64, 256, 1024]:\n",
    "    time_per_step_env = run_benchmark(\n",
    "        vectorized_envs.SequentiallyVectorizedEnv([\n",
    "            vanilla_pong.BothPlayerPongGymEnv(vanilla_pong.PongGame())\n",
    "            for _ in range(n)\n",
    "        ]))\n",
    "    benchmarks.append(\n",
    "        BenchmarkResult(\n",
    "            desc='vanilla', num_envs=n, time_per_step_env=time_per_step_env))"
   ]
  },
  {
   "cell_type": "code",
   "execution_count": null,
   "metadata": {
    "ExecuteTime": {
     "end_time": "2018-02-15T18:13:20.644485Z",
     "start_time": "2018-02-15T18:09:51.902595Z"
    }
   },
   "outputs": [],
   "source": [
    "for n in [1, 4, 16, 64, 256, 1024]:\n",
    "    time_per_step_env = run_benchmark(vectorized_envs.make_gym_sequential_envs('Pong-v0', n=n), sample_action=sample_atari_action)\n",
    "    benchmarks.append(\n",
    "        BenchmarkResult(\n",
    "            desc='atari', num_envs=n, time_per_step_env=time_per_step_env))"
   ]
  },
  {
   "cell_type": "code",
   "execution_count": 83,
   "metadata": {
    "ExecuteTime": {
     "end_time": "2018-02-15T18:14:43.030463Z",
     "start_time": "2018-02-15T18:14:43.020946Z"
    }
   },
   "outputs": [
    {
     "name": "stdout",
     "output_type": "stream",
     "text": [
      "Stored 'benchmarks' (list)\n"
     ]
    }
   ],
   "source": [
    "%store benchmarks"
   ]
  },
  {
   "cell_type": "markdown",
   "metadata": {},
   "source": [
    "# Visualize results"
   ]
  },
  {
   "cell_type": "code",
   "execution_count": 9,
   "metadata": {
    "ExecuteTime": {
     "end_time": "2018-02-19T15:34:38.941523Z",
     "start_time": "2018-02-19T15:34:38.935523Z"
    }
   },
   "outputs": [],
   "source": [
    "dataframe = pd.DataFrame.from_records(benchmarks, columns=BenchmarkResult._fields).drop_duplicates(['desc', 'num_envs'], keep='last')"
   ]
  },
  {
   "cell_type": "code",
   "execution_count": 10,
   "metadata": {
    "ExecuteTime": {
     "end_time": "2018-02-19T15:34:39.439855Z",
     "start_time": "2018-02-19T15:34:39.429851Z"
    }
   },
   "outputs": [
    {
     "data": {
      "text/html": [
       "<div>\n",
       "<style>\n",
       "    .dataframe thead tr:only-child th {\n",
       "        text-align: right;\n",
       "    }\n",
       "\n",
       "    .dataframe thead th {\n",
       "        text-align: left;\n",
       "    }\n",
       "\n",
       "    .dataframe tbody tr th {\n",
       "        vertical-align: top;\n",
       "    }\n",
       "</style>\n",
       "<table border=\"1\" class=\"dataframe\">\n",
       "  <thead>\n",
       "    <tr style=\"text-align: right;\">\n",
       "      <th></th>\n",
       "      <th>desc</th>\n",
       "      <th>num_envs</th>\n",
       "      <th>time_per_step_env</th>\n",
       "    </tr>\n",
       "  </thead>\n",
       "  <tbody>\n",
       "    <tr>\n",
       "      <th>0</th>\n",
       "      <td>numpy</td>\n",
       "      <td>1</td>\n",
       "      <td>0.000435</td>\n",
       "    </tr>\n",
       "    <tr>\n",
       "      <th>1</th>\n",
       "      <td>numpy</td>\n",
       "      <td>4</td>\n",
       "      <td>0.000101</td>\n",
       "    </tr>\n",
       "    <tr>\n",
       "      <th>2</th>\n",
       "      <td>numpy</td>\n",
       "      <td>16</td>\n",
       "      <td>0.000026</td>\n",
       "    </tr>\n",
       "    <tr>\n",
       "      <th>3</th>\n",
       "      <td>numpy</td>\n",
       "      <td>64</td>\n",
       "      <td>0.000007</td>\n",
       "    </tr>\n",
       "    <tr>\n",
       "      <th>4</th>\n",
       "      <td>numpy</td>\n",
       "      <td>256</td>\n",
       "      <td>0.000002</td>\n",
       "    </tr>\n",
       "    <tr>\n",
       "      <th>5</th>\n",
       "      <td>numpy</td>\n",
       "      <td>1024</td>\n",
       "      <td>0.000001</td>\n",
       "    </tr>\n",
       "    <tr>\n",
       "      <th>6</th>\n",
       "      <td>numpy</td>\n",
       "      <td>4096</td>\n",
       "      <td>0.000001</td>\n",
       "    </tr>\n",
       "    <tr>\n",
       "      <th>7</th>\n",
       "      <td>numpy</td>\n",
       "      <td>16384</td>\n",
       "      <td>0.000001</td>\n",
       "    </tr>\n",
       "    <tr>\n",
       "      <th>8</th>\n",
       "      <td>vanilla</td>\n",
       "      <td>1</td>\n",
       "      <td>0.000135</td>\n",
       "    </tr>\n",
       "    <tr>\n",
       "      <th>9</th>\n",
       "      <td>vanilla</td>\n",
       "      <td>4</td>\n",
       "      <td>0.000084</td>\n",
       "    </tr>\n",
       "    <tr>\n",
       "      <th>10</th>\n",
       "      <td>vanilla</td>\n",
       "      <td>16</td>\n",
       "      <td>0.000076</td>\n",
       "    </tr>\n",
       "    <tr>\n",
       "      <th>11</th>\n",
       "      <td>vanilla</td>\n",
       "      <td>64</td>\n",
       "      <td>0.000075</td>\n",
       "    </tr>\n",
       "    <tr>\n",
       "      <th>12</th>\n",
       "      <td>vanilla</td>\n",
       "      <td>256</td>\n",
       "      <td>0.000065</td>\n",
       "    </tr>\n",
       "    <tr>\n",
       "      <th>13</th>\n",
       "      <td>vanilla</td>\n",
       "      <td>1024</td>\n",
       "      <td>0.000067</td>\n",
       "    </tr>\n",
       "    <tr>\n",
       "      <th>14</th>\n",
       "      <td>atari</td>\n",
       "      <td>1</td>\n",
       "      <td>0.000505</td>\n",
       "    </tr>\n",
       "    <tr>\n",
       "      <th>15</th>\n",
       "      <td>atari</td>\n",
       "      <td>4</td>\n",
       "      <td>0.000511</td>\n",
       "    </tr>\n",
       "    <tr>\n",
       "      <th>16</th>\n",
       "      <td>atari</td>\n",
       "      <td>16</td>\n",
       "      <td>0.000496</td>\n",
       "    </tr>\n",
       "    <tr>\n",
       "      <th>17</th>\n",
       "      <td>atari</td>\n",
       "      <td>64</td>\n",
       "      <td>0.000490</td>\n",
       "    </tr>\n",
       "    <tr>\n",
       "      <th>18</th>\n",
       "      <td>atari</td>\n",
       "      <td>256</td>\n",
       "      <td>0.000493</td>\n",
       "    </tr>\n",
       "    <tr>\n",
       "      <th>19</th>\n",
       "      <td>atari</td>\n",
       "      <td>1024</td>\n",
       "      <td>0.000551</td>\n",
       "    </tr>\n",
       "  </tbody>\n",
       "</table>\n",
       "</div>"
      ],
      "text/plain": [
       "       desc  num_envs  time_per_step_env\n",
       "0     numpy         1           0.000435\n",
       "1     numpy         4           0.000101\n",
       "2     numpy        16           0.000026\n",
       "3     numpy        64           0.000007\n",
       "4     numpy       256           0.000002\n",
       "5     numpy      1024           0.000001\n",
       "6     numpy      4096           0.000001\n",
       "7     numpy     16384           0.000001\n",
       "8   vanilla         1           0.000135\n",
       "9   vanilla         4           0.000084\n",
       "10  vanilla        16           0.000076\n",
       "11  vanilla        64           0.000075\n",
       "12  vanilla       256           0.000065\n",
       "13  vanilla      1024           0.000067\n",
       "14    atari         1           0.000505\n",
       "15    atari         4           0.000511\n",
       "16    atari        16           0.000496\n",
       "17    atari        64           0.000490\n",
       "18    atari       256           0.000493\n",
       "19    atari      1024           0.000551"
      ]
     },
     "execution_count": 10,
     "metadata": {},
     "output_type": "execute_result"
    }
   ],
   "source": [
    "dataframe"
   ]
  },
  {
   "cell_type": "code",
   "execution_count": 11,
   "metadata": {
    "ExecuteTime": {
     "end_time": "2018-02-19T15:34:40.576864Z",
     "start_time": "2018-02-19T15:34:39.898850Z"
    }
   },
   "outputs": [
    {
     "data": {
      "image/png": "[encoded data removed]",
      "text/plain": [
       "<matplotlib.figure.Figure at 0x2e74acb9be0>"
      ]
     },
     "metadata": {},
     "output_type": "display_data"
    }
   ],
   "source": [
    "fig, ax = plt.subplots(figsize=(8,6))\n",
    "for name, group in dataframe.groupby('desc'):\n",
    "    group.plot(x=1,y=1,ax=ax, logx=True, logy=True, label=name)"
   ]
  },
  {
   "cell_type": "code",
   "execution_count": null,
   "metadata": {},
   "outputs": [],
   "source": []
  }
 ],
 "metadata": {
  "kernelspec": {
   "display_name": "Python 3",
   "language": "python",
   "name": "python3"
  },
  "language_info": {
   "codemirror_mode": {
    "name": "ipython",
    "version": 3
   },
   "file_extension": ".py",
   "mimetype": "text/x-python",
   "name": "python",
   "nbconvert_exporter": "python",
   "pygments_lexer": "ipython3",
   "version": "3.6.3"
  },
  "varInspector": {
   "cols": {
    "lenName": 16,
    "lenType": 16,
    "lenVar": 40
   },
   "kernels_config": {
    "python": {
     "delete_cmd_postfix": "",
     "delete_cmd_prefix": "del ",
     "library": "var_list.py",
     "varRefreshCmd": "print(var_dic_list())"
    },
    "r": {
     "delete_cmd_postfix": ") ",
     "delete_cmd_prefix": "rm(",
     "library": "var_list.r",
     "varRefreshCmd": "cat(var_dic_list()) "
    }
   },
   "types_to_exclude": [
    "module",
    "function",
    "builtin_function_or_method",
    "instance",
    "_Feature"
   ],
   "window_display": false
  }
 },
 "nbformat": 4,
 "nbformat_minor": 1
}
