{
 "cells": [
  {
   "cell_type": "code",
   "execution_count": 1,
   "metadata": {
    "ExecuteTime": {
     "end_time": "2018-02-19T15:32:57.014133Z",
     "start_time": "2018-02-19T15:32:56.327126Z"
    }
   },
   "outputs": [],
   "source": [
    "import time\n",
    "import numpy as np\n",
    "import typing\n",
    "import pandas as pd\n",
    "\n",
    "from src import numpy_pong\n",
    "from src import vanilla_pong\n",
    "from src import vectorized_envs"
   ]
  },
  {
   "cell_type": "code",
   "execution_count": 2,
   "metadata": {
    "ExecuteTime": {
     "end_time": "2018-02-19T15:32:58.014133Z",
     "start_time": "2018-02-19T15:32:57.848988Z"
    }
   },
   "outputs": [],
   "source": [
    "import matplotlib\n",
    "import numpy as np\n",
    "import matplotlib.pyplot as plt\n",
    "%matplotlib inline  "
   ]
  },
  {
   "cell_type": "code",
   "execution_count": 3,
   "metadata": {
    "ExecuteTime": {
     "end_time": "2018-02-19T15:33:01.897529Z",
     "start_time": "2018-02-19T15:33:01.892522Z"
    }
   },
   "outputs": [],
   "source": [
    "class BenchmarkResult(typing.NamedTuple):\n",
    "    desc: str\n",
    "    num_envs: int\n",
    "    time_per_step_env: float"
   ]
  },
  {
   "cell_type": "code",
   "execution_count": 4,
   "metadata": {
    "ExecuteTime": {
     "end_time": "2018-02-19T15:33:02.837001Z",
     "start_time": "2018-02-19T15:33:02.811996Z"
    }
   },
   "outputs": [],
   "source": [
    "def sample_action(n):\n",
    "    return np.random.choice(3, size=(n, 2))\n",
    "\n",
    "\n",
    "def sample_atari_action(n):\n",
    "    return np.random.choice([0,2,3], size=(n,))\n",
    "    \n",
    "\n",
    "def run_benchmark(envs, steps=100, sample_action=sample_action):\n",
    "    # Warm up\n",
    "    envs.reset()\n",
    "    for _ in range(5):\n",
    "        envs.step(sample_action(envs.n))\n",
    "\n",
    "    start_time = time.time()\n",
    "\n",
    "    envs.reset()\n",
    "    for _ in range(steps):\n",
    "        envs.step(sample_action(envs.n))\n",
    "    end_time = time.time()\n",
    "    delta = (end_time - start_time) / steps / envs.n\n",
    "    return delta"
   ]
  },
  {
   "cell_type": "markdown",
   "metadata": {
    "ExecuteTime": {
     "end_time": "2018-02-19T15:34:14.928894Z",
     "start_time": "2018-02-19T15:34:14.925891Z"
    }
   },
   "source": [
    "# Load results"
   ]
  },
  {
   "cell_type": "code",
   "execution_count": 6,
   "metadata": {
    "ExecuteTime": {
     "end_time": "2018-02-19T15:34:26.227315Z",
     "start_time": "2018-02-19T15:34:26.214316Z"
    }
   },
   "outputs": [],
   "source": [
    "%store -r"
   ]
  },
  {
   "cell_type": "markdown",
   "metadata": {},
   "source": [
    "## Rerun benchmarks"
   ]
  },
  {
   "cell_type": "code",
   "execution_count": 76,
   "metadata": {
    "ExecuteTime": {
     "end_time": "2018-02-15T18:07:35.461364Z",
     "start_time": "2018-02-15T18:07:35.457347Z"
    }
   },
   "outputs": [],
   "source": [
    "benchmarks = []"
   ]
  },
  {
   "cell_type": "code",
   "execution_count": 77,
   "metadata": {
    "ExecuteTime": {
     "end_time": "2018-02-15T18:07:38.920772Z",
     "start_time": "2018-02-15T18:07:36.077112Z"
    },
    "code_folding": []
   },
   "outputs": [],
   "source": [
    "for n in [1, 4, 16, 64, 256, 1024, 4096, 16384]:\n",
    "    time_per_step_env = run_benchmark(\n",
    "        numpy_pong.BothPlayerPongGymEnv(numpy_pong.PongConfiguration(), n=n))\n",
    "    benchmarks.append(\n",
    "        BenchmarkResult(\n",
    "            desc='numpy', num_envs=n, time_per_step_env=time_per_step_env))"
   ]
  },
  {
   "cell_type": "code",
   "execution_count": 78,
   "metadata": {
    "ExecuteTime": {
     "end_time": "2018-02-15T18:07:48.722358Z",
     "start_time": "2018-02-15T18:07:38.950731Z"
    }
   },
   "outputs": [],
   "source": [
    "for n in [1, 4, 16, 64, 256, 1024]:\n",
    "    time_per_step_env = run_benchmark(\n",
    "        vectorized_envs.SequentiallyVectorizedEnv([\n",
    "            vanilla_pong.BothPlayerPongGymEnv(vanilla_pong.PongGame())\n",
    "            for _ in range(n)\n",
    "        ]))\n",
    "    benchmarks.append(\n",
    "        BenchmarkResult(\n",
    "            desc='vanilla', num_envs=n, time_per_step_env=time_per_step_env))"
   ]
  },
  {
   "cell_type": "code",
   "execution_count": null,
   "metadata": {
    "ExecuteTime": {
     "end_time": "2018-02-15T18:13:20.644485Z",
     "start_time": "2018-02-15T18:09:51.902595Z"
    }
   },
   "outputs": [],
   "source": [
    "for n in [1, 4, 16, 64, 256, 1024]:\n",
    "    time_per_step_env = run_benchmark(vectorized_envs.make_gym_sequential_envs('Pong-v0', n=n), sample_action=sample_atari_action)\n",
    "    benchmarks.append(\n",
    "        BenchmarkResult(\n",
    "            desc='atari', num_envs=n, time_per_step_env=time_per_step_env))"
   ]
  },
  {
   "cell_type": "code",
   "execution_count": 83,
   "metadata": {
    "ExecuteTime": {
     "end_time": "2018-02-15T18:14:43.030463Z",
     "start_time": "2018-02-15T18:14:43.020946Z"
    }
   },
   "outputs": [
    {
     "name": "stdout",
     "output_type": "stream",
     "text": [
      "Stored 'benchmarks' (list)\n"
     ]
    }
   ],
   "source": [
    "%store benchmarks"
   ]
  },
  {
   "cell_type": "markdown",
   "metadata": {},
   "source": [
    "# Visualize results"
   ]
  },
  {
   "cell_type": "code",
   "execution_count": 9,
   "metadata": {
    "ExecuteTime": {
     "end_time": "2018-02-19T15:34:38.941523Z",
     "start_time": "2018-02-19T15:34:38.935523Z"
    }
   },
   "outputs": [],
   "source": [
    "dataframe = pd.DataFrame.from_records(benchmarks, columns=BenchmarkResult._fields).drop_duplicates(['desc', 'num_envs'], keep='last')"
   ]
  },
  {
   "cell_type": "code",
   "execution_count": 55,
   "metadata": {
    "ExecuteTime": {
     "end_time": "2018-02-19T15:55:16.674575Z",
     "start_time": "2018-02-19T15:55:16.187579Z"
    }
   },
   "outputs": [
    {
     "data": {
      "image/png": "[encoded data removed]",
      "text/plain": [
       "<matplotlib.figure.Figure at 0x2e74d135cf8>"
      ]
     },
     "metadata": {},
     "output_type": "display_data"
    }
   ],
   "source": [
    "time_per_step_env=dataframe.pivot(index='num_envs',columns='desc',values='time_per_step_env')\n",
    "time_per_step_env=time_per_step_env.ffill()\n",
    "time_per_step_env.plot(logx=True, logy=True)\n",
    "plt.yticks([10**-3, 10**-4, 10**-5, 10**-6], ['1 ms', '100 μs', '10 μs', '1 μs'])\n",
    "plt.savefig('benchmark.png')"
   ]
  },
  {
   "cell_type": "code",
   "execution_count": 56,
   "metadata": {
    "ExecuteTime": {
     "end_time": "2018-02-19T15:55:35.927810Z",
     "start_time": "2018-02-19T15:55:35.915813Z"
    }
   },
   "outputs": [
    {
     "data": {
      "text/html": [
       "<div>\n",
       "<style>\n",
       "    .dataframe thead tr:only-child th {\n",
       "        text-align: right;\n",
       "    }\n",
       "\n",
       "    .dataframe thead th {\n",
       "        text-align: left;\n",
       "    }\n",
       "\n",
       "    .dataframe tbody tr th {\n",
       "        vertical-align: top;\n",
       "    }\n",
       "</style>\n",
       "<table border=\"1\" class=\"dataframe\">\n",
       "  <thead>\n",
       "    <tr style=\"text-align: right;\">\n",
       "      <th></th>\n",
       "      <th>atari_vs_numpy</th>\n",
       "      <th>vanilla_vs_numpy</th>\n",
       "    </tr>\n",
       "    <tr>\n",
       "      <th>num_envs</th>\n",
       "      <th></th>\n",
       "      <th></th>\n",
       "    </tr>\n",
       "  </thead>\n",
       "  <tbody>\n",
       "    <tr>\n",
       "      <th>1</th>\n",
       "      <td>1.162346</td>\n",
       "      <td>0.310571</td>\n",
       "    </tr>\n",
       "    <tr>\n",
       "      <th>4</th>\n",
       "      <td>5.051870</td>\n",
       "      <td>0.828113</td>\n",
       "    </tr>\n",
       "    <tr>\n",
       "      <th>16</th>\n",
       "      <td>18.883153</td>\n",
       "      <td>2.904582</td>\n",
       "    </tr>\n",
       "    <tr>\n",
       "      <th>64</th>\n",
       "      <td>70.473163</td>\n",
       "      <td>10.721374</td>\n",
       "    </tr>\n",
       "    <tr>\n",
       "      <th>256</th>\n",
       "      <td>212.115408</td>\n",
       "      <td>27.992779</td>\n",
       "    </tr>\n",
       "    <tr>\n",
       "      <th>1024</th>\n",
       "      <td>377.105627</td>\n",
       "      <td>46.192200</td>\n",
       "    </tr>\n",
       "    <tr>\n",
       "      <th>4096</th>\n",
       "      <td>491.301512</td>\n",
       "      <td>60.180215</td>\n",
       "    </tr>\n",
       "    <tr>\n",
       "      <th>16384</th>\n",
       "      <td>491.928052</td>\n",
       "      <td>60.256961</td>\n",
       "    </tr>\n",
       "  </tbody>\n",
       "</table>\n",
       "</div>"
      ],
      "text/plain": [
       "          atari_vs_numpy  vanilla_vs_numpy\n",
       "num_envs                                  \n",
       "1               1.162346          0.310571\n",
       "4               5.051870          0.828113\n",
       "16             18.883153          2.904582\n",
       "64             70.473163         10.721374\n",
       "256           212.115408         27.992779\n",
       "1024          377.105627         46.192200\n",
       "4096          491.301512         60.180215\n",
       "16384         491.928052         60.256961"
      ]
     },
     "execution_count": 56,
     "metadata": {},
     "output_type": "execute_result"
    }
   ],
   "source": [
    "speedups = pd.DataFrame()\n",
    "speedups['atari_vs_numpy']= time_per_step_env['atari']/time_per_step_env['numpy']\n",
    "speedups['vanilla_vs_numpy']= time_per_step_env['vanilla']/time_per_step_env['numpy']\n",
    "speedups"
   ]
  },
  {
   "cell_type": "code",
   "execution_count": null,
   "metadata": {},
   "outputs": [],
   "source": []
  }
 ],
 "metadata": {
  "kernelspec": {
   "display_name": "Python 3",
   "language": "python",
   "name": "python3"
  },
  "language_info": {
   "codemirror_mode": {
    "name": "ipython",
    "version": 3
   },
   "file_extension": ".py",
   "mimetype": "text/x-python",
   "name": "python",
   "nbconvert_exporter": "python",
   "pygments_lexer": "ipython3",
   "version": "3.6.3"
  },
  "varInspector": {
   "cols": {
    "lenName": 16.0,
    "lenType": 16.0,
    "lenVar": 40.0
   },
   "kernels_config": {
    "python": {
     "delete_cmd_postfix": "",
     "delete_cmd_prefix": "del ",
     "library": "var_list.py",
     "varRefreshCmd": "print(var_dic_list())"
    },
    "r": {
     "delete_cmd_postfix": ") ",
     "delete_cmd_prefix": "rm(",
     "library": "var_list.r",
     "varRefreshCmd": "cat(var_dic_list()) "
    }
   },
   "types_to_exclude": [
    "module",
    "function",
    "builtin_function_or_method",
    "instance",
    "_Feature"
   ],
   "window_display": false
  }
 },
 "nbformat": 4,
 "nbformat_minor": 1
}
